{
  "nbformat": 4,
  "nbformat_minor": 0,
  "metadata": {
    "kernelspec": {
      "display_name": "Python 3",
      "language": "python",
      "name": "python3"
    },
    "language_info": {
      "codemirror_mode": {
        "name": "ipython",
        "version": 3
      },
      "file_extension": ".py",
      "mimetype": "text/x-python",
      "name": "python",
      "nbconvert_exporter": "python",
      "pygments_lexer": "ipython3",
      "version": "3.6.9"
    },
    "colab": {
      "name": "INR-USD-Prediction.ipynb",
      "provenance": [],
      "collapsed_sections": []
    },
    "accelerator": "GPU"
  },
  "cells": [
    {
      "cell_type": "markdown",
      "metadata": {
        "id": "VvgnUUmNmtki",
        "colab_type": "text"
      },
      "source": [
        "# INR vs USD currency predictor using  Time-Series \n",
        "We are going to predict the possible value of INR compared to USD by performing Time-Series predictoin in Tensorflow\n"
      ]
    },
    {
      "cell_type": "markdown",
      "metadata": {
        "id": "H0wwafkCmtkk",
        "colab_type": "text"
      },
      "source": [
        "### 1. Aim\n",
        "The aim is to create a model for predicting INR value agains USD by performing Time-Series-Prediction using last 8 years Dataset using Neural Networks"
      ]
    },
    {
      "cell_type": "markdown",
      "metadata": {
        "id": "fhGg1yE9mx-q",
        "colab_type": "text"
      },
      "source": [
        "\n",
        "### 2. Setup"
      ]
    },
    {
      "cell_type": "code",
      "metadata": {
        "id": "QKU2lh9Vmtkl",
        "colab_type": "code",
        "outputId": "be308cc8-d0d9-4aa1-8141-f91aa1a27f95",
        "colab": {
          "base_uri": "https://localhost:8080/",
          "height": 34
        }
      },
      "source": [
        "#check the version on TF (make sure it's 2.0+)\n",
        "import tensorflow as tf\n",
        "print(tf.__version__)"
      ],
      "execution_count": 1,
      "outputs": [
        {
          "output_type": "stream",
          "text": [
            "2.2.0\n"
          ],
          "name": "stdout"
        }
      ]
    },
    {
      "cell_type": "code",
      "metadata": {
        "id": "BhXRaiPToNqn",
        "colab_type": "code",
        "colab": {}
      },
      "source": [
        "#importing required libraries\n",
        "import numpy as np\n",
        "import pandas as pd\n",
        "import matplotlib.pyplot as plt\n"
      ],
      "execution_count": 0,
      "outputs": []
    },
    {
      "cell_type": "code",
      "metadata": {
        "id": "DYBqCDJ8pfnV",
        "colab_type": "code",
        "outputId": "6984746f-e857-4c22-af2e-22c8cd9e6198",
        "colab": {
          "base_uri": "https://localhost:8080/",
          "height": 122
        }
      },
      "source": [
        "from google.colab import drive\n",
        "drive.mount('/content/drive')"
      ],
      "execution_count": 3,
      "outputs": [
        {
          "output_type": "stream",
          "text": [
            "Go to this URL in a browser: https://accounts.google.com/o/oauth2/auth?client_id=947318989803-6bn6qk8qdgf4n4g3pfee6491hc0brc4i.apps.googleusercontent.com&redirect_uri=urn%3aietf%3awg%3aoauth%3a2.0%3aoob&response_type=code&scope=email%20https%3a%2f%2fwww.googleapis.com%2fauth%2fdocs.test%20https%3a%2f%2fwww.googleapis.com%2fauth%2fdrive%20https%3a%2f%2fwww.googleapis.com%2fauth%2fdrive.photos.readonly%20https%3a%2f%2fwww.googleapis.com%2fauth%2fpeopleapi.readonly\n",
            "\n",
            "Enter your authorization code:\n",
            "··········\n",
            "Mounted at /content/drive\n"
          ],
          "name": "stdout"
        }
      ]
    },
    {
      "cell_type": "markdown",
      "metadata": {
        "id": "TUKS65fUoyUT",
        "colab_type": "text"
      },
      "source": [
        "\n",
        "### 3.1 Fetching dataset\n",
        "We have 2 DATSETS available, \n",
        "  1. inr-usd.csv:  ( having business days currency value from 15-04-2013 to 12-05-2020 )\n",
        "  2. inr-usd2.csv:  ( having weekly currency value from 24-04-2005 to 10-05-2020 )\n",
        "\n"
      ]
    },
    {
      "cell_type": "code",
      "metadata": {
        "id": "sfz4fX-rpd6i",
        "colab_type": "code",
        "outputId": "a39456e9-23d4-4632-b3f7-8ec31305c413",
        "colab": {
          "base_uri": "https://localhost:8080/",
          "height": 221
        }
      },
      "source": [
        "df1=pd.read_csv('/content/drive/My Drive/INR-USD-Prediction/dataset/usd-inr.csv')\n",
        "print(df1.head())\n",
        "print(df1.tail())\n",
        "\n",
        "\n"
      ],
      "execution_count": 52,
      "outputs": [
        {
          "output_type": "stream",
          "text": [
            "       Date   Price    Open    High     Low Volume    Chg%\n",
            "0  13/04/10  44.545  44.345  44.705  44.295      0   0.13%\n",
            "1  14/04/10  44.215  44.455  44.455  44.175      0  -0.74%\n",
            "2  15/04/10  44.345  44.165  44.515  44.075      0   0.29%\n",
            "3  16/04/10  44.275  44.285  44.605  44.215      0  -0.16%\n",
            "4  19/04/10  44.735  44.235  44.755  44.195      0   1.04%\n",
            "          Date   Price    Open    High     Low Volume    Chg%\n",
            "2627  07/05/20  75.794  76.100  76.145  75.773  0.48K  -0.41%\n",
            "2628  08/05/20  75.535  75.588  75.645  75.262  3.32K  -0.34%\n",
            "2629  11/05/20  75.888  75.535  75.925  75.450  5.78K   0.47%\n",
            "2630  12/05/20  75.062  75.945  75.967  75.049  4.05K  -1.09%\n",
            "2631  13/05/20  75.268  75.275  75.507  75.053  3.70K   0.27%\n"
          ],
          "name": "stdout"
        }
      ]
    },
    {
      "cell_type": "code",
      "metadata": {
        "id": "5Z0DzVxURSgk",
        "colab_type": "code",
        "outputId": "6a7ae67f-408f-476d-aa53-e45c5b70062d",
        "colab": {
          "base_uri": "https://localhost:8080/",
          "height": 323
        }
      },
      "source": [
        "print('Shape',df1.shape,'\\n____________\\n')\n",
        "print(df1.info())"
      ],
      "execution_count": 53,
      "outputs": [
        {
          "output_type": "stream",
          "text": [
            "Shape (2632, 7) \n",
            "____________\n",
            "\n",
            "<class 'pandas.core.frame.DataFrame'>\n",
            "RangeIndex: 2632 entries, 0 to 2631\n",
            "Data columns (total 7 columns):\n",
            " #   Column  Non-Null Count  Dtype  \n",
            "---  ------  --------------  -----  \n",
            " 0   Date    2632 non-null   object \n",
            " 1   Price   2632 non-null   float64\n",
            " 2   Open    2632 non-null   float64\n",
            " 3   High    2632 non-null   float64\n",
            " 4   Low     2632 non-null   float64\n",
            " 5   Volume  2632 non-null   object \n",
            " 6   Chg%    2632 non-null   object \n",
            "dtypes: float64(4), object(3)\n",
            "memory usage: 144.1+ KB\n",
            "None\n"
          ],
          "name": "stdout"
        }
      ]
    },
    {
      "cell_type": "code",
      "metadata": {
        "id": "Dziom5YBQL-r",
        "colab_type": "code",
        "outputId": "9a2ec14c-d494-4732-b5f3-91aebfe02b2e",
        "colab": {
          "base_uri": "https://localhost:8080/",
          "height": 221
        }
      },
      "source": [
        "df2=pd.read_csv('/content/drive/My Drive/INR-USD-Prediction/dataset/usd-inr2.csv')\n",
        "print(df2.head())\n",
        "print(df2.tail())\n"
      ],
      "execution_count": 54,
      "outputs": [
        {
          "output_type": "stream",
          "text": [
            "       Date   Price    Open    High     Low  Volume    Chg%\n",
            "0  17/04/05  43.660  43.710  43.850  43.630       0  -0.25%\n",
            "1  24/04/05  43.430  43.640  43.821  43.430       0  -0.53%\n",
            "2  01/05/05  43.455  43.605  43.635  43.285       0   0.06%\n",
            "3  08/05/05  43.430  43.330  43.560  43.160       0  -0.06%\n",
            "4  15/05/05  43.480  43.350  43.650  43.350       0   0.12%\n",
            "         Date   Price    Open    High     Low  Volume    Chg%\n",
            "782  12/04/20  76.550  75.879  76.914  75.879       0   0.88%\n",
            "783  19/04/20  76.270  76.550  77.010  75.817       0  -0.37%\n",
            "784  26/04/20  75.749  76.270  76.449  74.909       0  -0.68%\n",
            "785  03/05/20  75.535  75.750  76.145  75.262       0  -0.28%\n",
            "786  10/05/20  75.321  75.535  75.962  75.049       0  -0.28%\n"
          ],
          "name": "stdout"
        }
      ]
    },
    {
      "cell_type": "code",
      "metadata": {
        "id": "9KgF178_qU1s",
        "colab_type": "code",
        "outputId": "e090da28-043f-4aa3-b66c-da9764b37312",
        "colab": {
          "base_uri": "https://localhost:8080/",
          "height": 323
        }
      },
      "source": [
        "print('Shape',df1.shape,'\\n____________\\n')\n",
        "print(df1.info())"
      ],
      "execution_count": 55,
      "outputs": [
        {
          "output_type": "stream",
          "text": [
            "Shape (2632, 7) \n",
            "____________\n",
            "\n",
            "<class 'pandas.core.frame.DataFrame'>\n",
            "RangeIndex: 2632 entries, 0 to 2631\n",
            "Data columns (total 7 columns):\n",
            " #   Column  Non-Null Count  Dtype  \n",
            "---  ------  --------------  -----  \n",
            " 0   Date    2632 non-null   object \n",
            " 1   Price   2632 non-null   float64\n",
            " 2   Open    2632 non-null   float64\n",
            " 3   High    2632 non-null   float64\n",
            " 4   Low     2632 non-null   float64\n",
            " 5   Volume  2632 non-null   object \n",
            " 6   Chg%    2632 non-null   object \n",
            "dtypes: float64(4), object(3)\n",
            "memory usage: 144.1+ KB\n",
            "None\n"
          ],
          "name": "stdout"
        }
      ]
    },
    {
      "cell_type": "markdown",
      "metadata": {
        "id": "ePy6gf02rcgB",
        "colab_type": "text"
      },
      "source": [
        "Since we only need the time stamp and the price, hence we'll remove the rest of the columns except Chg% for now."
      ]
    },
    {
      "cell_type": "code",
      "metadata": {
        "id": "TvXz1GjlsGR5",
        "colab_type": "code",
        "outputId": "3d7eee1b-d1e4-4998-cea5-3866cd3bc840",
        "colab": {
          "base_uri": "https://localhost:8080/",
          "height": 255
        }
      },
      "source": [
        "df1=df1.drop(['Open','High','Low','Volume','Chg%'],axis=1)\n",
        "df2=df2.drop(['Open','High','Low','Volume','Chg%'],axis=1)\n",
        "print(df1.head(),'\\n\\n')\n",
        "print(df2.head())"
      ],
      "execution_count": 56,
      "outputs": [
        {
          "output_type": "stream",
          "text": [
            "       Date   Price\n",
            "0  13/04/10  44.545\n",
            "1  14/04/10  44.215\n",
            "2  15/04/10  44.345\n",
            "3  16/04/10  44.275\n",
            "4  19/04/10  44.735 \n",
            "\n",
            "\n",
            "       Date   Price\n",
            "0  17/04/05  43.660\n",
            "1  24/04/05  43.430\n",
            "2  01/05/05  43.455\n",
            "3  08/05/05  43.430\n",
            "4  15/05/05  43.480\n"
          ],
          "name": "stdout"
        }
      ]
    },
    {
      "cell_type": "markdown",
      "metadata": {
        "id": "cJAsG7n-FLNG",
        "colab_type": "text"
      },
      "source": [
        "### 3.2 Feature Extraction\n",
        "Since we have to plot our data, we need our values in the form of Vector/Array. Hence the feature extraction is necessary to get the desired format of dataset."
      ]
    },
    {
      "cell_type": "markdown",
      "metadata": {
        "id": "-1pt-9AHVgEG",
        "colab_type": "text"
      },
      "source": [
        "DF1 (the first dataset)"
      ]
    },
    {
      "cell_type": "code",
      "metadata": {
        "id": "Fhlb4Roesb9x",
        "colab_type": "code",
        "outputId": "334b47d4-a80d-4986-c2fc-cea27c0b040a",
        "colab": {
          "base_uri": "https://localhost:8080/",
          "height": 68
        }
      },
      "source": [
        " #creating varibles 'step' and 'time_step'\n",
        "days=len(df1.Date)\n",
        "time_step=[]\n",
        "price=[]\n",
        "for i in range(days):\n",
        "  time_step.append(i)\n",
        "  price.append(df1['Price'][i])\n",
        "\n",
        "#since the data we've is in opposite order \n",
        "series1=np.array(price)\n",
        "time1=np.array(time_step)\n",
        "\n",
        "# days: contain total number of days \n",
        "# time: contain the sequence 0 to 1846 \n",
        "# series: contains the PRICE column values\n",
        "print('days: ',days)\n",
        "print('time1-sample: ',time1[:10])\n",
        "print('series1-sample: ',series1[:10])\n"
      ],
      "execution_count": 57,
      "outputs": [
        {
          "output_type": "stream",
          "text": [
            "days:  2632\n",
            "time1-sample:  [0 1 2 3 4 5 6 7 8 9]\n",
            "series1-sample:  [44.545 44.215 44.345 44.275 44.735 44.515 44.555 44.535 44.315 44.395]\n"
          ],
          "name": "stdout"
        }
      ]
    },
    {
      "cell_type": "markdown",
      "metadata": {
        "id": "M7uM_n-XWhHx",
        "colab_type": "text"
      },
      "source": [
        "DF2 (the second dataset)"
      ]
    },
    {
      "cell_type": "code",
      "metadata": {
        "id": "efCg5hpwWgQH",
        "colab_type": "code",
        "outputId": "edfbbfd4-92e9-41de-c99a-3551fe75528e",
        "colab": {
          "base_uri": "https://localhost:8080/",
          "height": 68
        }
      },
      "source": [
        "#creating varibles 'step' and 'time_step'\n",
        "weeks=len(df2.Date)\n",
        "time_step=[]\n",
        "price=[]\n",
        "for i in range(weeks):\n",
        "  time_step.append(i)\n",
        "  price.append(df2['Price'][i])\n",
        "\n",
        "#since the data we've is in opposite order \n",
        "series2=np.array(price)\n",
        "time2=np.array(time_step)\n",
        "\n",
        "# days: contain total number of days \n",
        "# time: contain the sequence 0 to 1846 \n",
        "# series: contains the PRICE column values\n",
        "print('weeks: ',weeks)\n",
        "print('time1-sample: ',time2[:10])\n",
        "print('series2-sample: ',series2[:10])"
      ],
      "execution_count": 58,
      "outputs": [
        {
          "output_type": "stream",
          "text": [
            "weeks:  787\n",
            "time1-sample:  [0 1 2 3 4 5 6 7 8 9]\n",
            "series2-sample:  [43.66  43.43  43.455 43.43  43.48  43.505 43.595 43.51  43.515 43.515]\n"
          ],
          "name": "stdout"
        }
      ]
    },
    {
      "cell_type": "markdown",
      "metadata": {
        "id": "-nj43k4mtnsQ",
        "colab_type": "text"
      },
      "source": [
        "### 3.2 Plotting Dataset\n",
        "As we've the data in desired format i.e with timestamp and the values, we can plot the time-series"
      ]
    },
    {
      "cell_type": "code",
      "metadata": {
        "id": "JgTTG6lQiGNx",
        "colab_type": "code",
        "outputId": "e1c6e722-12f9-4436-a2d2-e1063d3c0b3a",
        "colab": {
          "base_uri": "https://localhost:8080/",
          "height": 300
        }
      },
      "source": [
        "plt.figure(figsize=(16, 6))\n",
        "plt.plot(2010+((120+time1)/(365-105)),series1)\n",
        "\n",
        "# The 'time1' variable has the total number of DAYS\n",
        "# Since the time-series starts from the month of April, hence adding 120 (days) == (3 months), so that our graph plots properly.\n",
        "# Now, dividing the 'time1' by  365-105: was necessary as the dataset have the value for 5 working days per week, hence we've to remove 2 days per week.\n",
        "# total week = 52.17 in a year\n",
        "# total SAT_SUN = 2*52.14 = 104 \n",
        "# hence our 1 year(365 days) plot is actuaually (365-104 days) plot\n",
        "# Now the value recieved is 0..1..2...10  (but the year starts from 2010) hence adding 2010 finally!\n",
        "\n",
        "plt.ylabel('Price')\n",
        "plt.xlabel('Years')\n",
        "plt.title('PER_DAY_VALUE Plot')\n",
        "\n",
        "plt.grid(True,linestyle='-')\n",
        "\n",
        "plt.show()"
      ],
      "execution_count": 0,
      "outputs": [
        {
          "output_type": "display_data",
          "data": {
            "image/png": "[encoded data removed]",
            "text/plain": [
              "<Figure size 1152x432 with 1 Axes>"
            ]
          },
          "metadata": {
            "tags": [],
            "needs_background": "light"
          }
        }
      ]
    },
    {
      "cell_type": "code",
      "metadata": {
        "id": "HwsOW4rHuzoI",
        "colab_type": "code",
        "outputId": "af1f296a-227c-4823-edbb-81e1e19ff955",
        "colab": {
          "base_uri": "https://localhost:8080/",
          "height": 300
        }
      },
      "source": [
        "plt.figure(figsize=(16, 6))\n",
        "plt.plot(2005+((16+time2)/52),series2)\n",
        "\n",
        "# The 'time2' variable has the total number of WEEKS\n",
        "# Since the time-series starts from the month of April, hence adding 12 (WEEKS) == (3 MONTHS), so that our graph plots properly. \n",
        "# And dividing by 52 weeks per year till now.\n",
        "# Now the value recieved is 0..1..2...10  (but the year starts from 2010) hence adding 2010 finally!\n",
        "\n",
        "plt.ylabel('Price')\n",
        "plt.xlabel('Years')\n",
        "plt.title('PER_WEEK_VALUE Plot')\n",
        "\n",
        "plt.grid(True)\n",
        "\n",
        "plt.show()"
      ],
      "execution_count": 0,
      "outputs": [
        {
          "output_type": "display_data",
          "data": {
            "image/png": "[encoded data removed]",
            "text/plain": [
              "<Figure size 1152x432 with 1 Axes>"
            ]
          },
          "metadata": {
            "tags": [],
            "needs_background": "light"
          }
        }
      ]
    },
    {
      "cell_type": "markdown",
      "metadata": {
        "id": "EkKklqbSyCZQ",
        "colab_type": "text"
      },
      "source": [
        "Comparing both the graphs we can see that the PER_DAY_VALUE graph is denser than the PER_WEEK_WEEK one. \n",
        "\n",
        "So let's WORK on the Time-Series for the PER_DAY_VALUE graph"
      ]
    },
    {
      "cell_type": "code",
      "metadata": {
        "id": "9v3p-OqnQnFO",
        "colab_type": "code",
        "outputId": "27408f2f-a7b3-4e2b-8a99-4a156cfb7540",
        "colab": {
          "base_uri": "https://localhost:8080/",
          "height": 300
        }
      },
      "source": [
        "plt.figure(figsize=(16, 6))\n",
        "plt.plot(df1.Date,series1)\n",
        "\n",
        "plt.ylabel('Price')\n",
        "plt.xlabel('Years')\n",
        "plt.title('PER_DAY_VALUE Plot')\n",
        "plt.grid(True)\n",
        "plt.show()"
      ],
      "execution_count": 0,
      "outputs": [
        {
          "output_type": "display_data",
          "data": {
            "image/png": "[encoded data removed]",
            "text/plain": [
              "<Figure size 1152x432 with 1 Axes>"
            ]
          },
          "metadata": {
            "tags": [],
            "needs_background": "light"
          }
        }
      ]
    },
    {
      "cell_type": "markdown",
      "metadata": {
        "id": "u6z0wMNFFP7K",
        "colab_type": "text"
      },
      "source": [
        "### 4. Preprocessing \n",
        "Splitting up the dataset into _TRAIN_ and _VALIDATE_ ,\n",
        "\n",
        " Creating the _WINDOW_ for fix input size "
      ]
    },
    {
      "cell_type": "code",
      "metadata": {
        "id": "ZRKdQa7lLWK6",
        "colab_type": "code",
        "outputId": "3a179f6e-ba05-4b48-b1a1-e3f8697b494a",
        "colab": {
          "base_uri": "https://localhost:8080/",
          "height": 34
        }
      },
      "source": [
        "#Since the dataset is 2632 splitting into 2000-632\n",
        "split_time = 2000\n",
        "time_train = time1[:split_time]\n",
        "x_train = series1[:split_time]\n",
        "time_valid = time1[split_time:]\n",
        "x_valid = series1[split_time:]\n",
        "\n",
        "window_size = 30\n",
        "batch_size = 32\n",
        "shuffle_buffer_size = 500\n",
        "\n",
        "x_train.shape,x_valid.shape\n"
      ],
      "execution_count": 59,
      "outputs": [
        {
          "output_type": "execute_result",
          "data": {
            "text/plain": [
              "((2000,), (632,))"
            ]
          },
          "metadata": {
            "tags": []
          },
          "execution_count": 59
        }
      ]
    },
    {
      "cell_type": "code",
      "metadata": {
        "id": "1lDA9mRmT5LZ",
        "colab_type": "code",
        "outputId": "d40fa85c-15f7-42d0-c430-9f9f6f5d537d",
        "colab": {
          "base_uri": "https://localhost:8080/",
          "height": 34
        }
      },
      "source": [
        "print(df1['Date'][2000],df1['Date'][2631])"
      ],
      "execution_count": 60,
      "outputs": [
        {
          "output_type": "stream",
          "text": [
            "12/12/17 13/05/20\n"
          ],
          "name": "stdout"
        }
      ]
    },
    {
      "cell_type": "code",
      "metadata": {
        "id": "KXnBRQk6LhJK",
        "colab_type": "code",
        "colab": {}
      },
      "source": [
        "def windowed_dataset(series, window_size, batch_size, shuffle_buffer):\n",
        "    series = tf.expand_dims(series, axis=-1)\n",
        "    ds = tf.data.Dataset.from_tensor_slices(series)\n",
        "    ds = ds.window(window_size+1 , shift=1, drop_remainder=True)\n",
        "    ds = ds.flat_map(lambda w: w.batch(window_size+1 ))\n",
        "    ds = ds.shuffle(shuffle_buffer)\n",
        "    ds = ds.map(lambda w: (w[:-1], w[1:]))\n",
        "    return ds.batch(batch_size).prefetch(1)"
      ],
      "execution_count": 0,
      "outputs": []
    },
    {
      "cell_type": "code",
      "metadata": {
        "id": "TZn6leU2LjEa",
        "colab_type": "code",
        "colab": {}
      },
      "source": [
        "def model_forecast(model, series, window_size):\n",
        "    ds = tf.data.Dataset.from_tensor_slices(series)\n",
        "    ds = ds.window(window_size, shift=1, drop_remainder=True)\n",
        "    ds = ds.flat_map(lambda w: w.batch(window_size))\n",
        "    ds = ds.batch(32).prefetch(1)\n",
        "    forecast = model.predict(ds)\n",
        "    return forecast"
      ],
      "execution_count": 0,
      "outputs": []
    },
    {
      "cell_type": "code",
      "metadata": {
        "id": "_iRRdN2RLkxF",
        "colab_type": "code",
        "outputId": "1ed50f2a-c685-496b-f2f6-e853a3c29095",
        "colab": {
          "base_uri": "https://localhost:8080/",
          "height": 51
        }
      },
      "source": [
        "\n",
        "tf.random.set_seed(31)\n",
        "np.random.seed(31)\n",
        "window_size = 30\n",
        "batch_size = 32\n",
        "train_set = windowed_dataset(x_train, window_size, batch_size, shuffle_buffer_size)\n",
        "print(train_set)\n",
        "print(x_train.shape)\n"
      ],
      "execution_count": 63,
      "outputs": [
        {
          "output_type": "stream",
          "text": [
            "<PrefetchDataset shapes: ((None, None, 1), (None, None, 1)), types: (tf.float64, tf.float64)>\n",
            "(2000,)\n"
          ],
          "name": "stdout"
        }
      ]
    },
    {
      "cell_type": "markdown",
      "metadata": {
        "id": "lmtSRG4ATcxz",
        "colab_type": "text"
      },
      "source": [
        "### 5. Building Model"
      ]
    },
    {
      "cell_type": "code",
      "metadata": {
        "id": "BT6YfBpTTaTT",
        "colab_type": "code",
        "outputId": "9f40b661-76e5-49e7-b2b8-07d15d4ec767",
        "colab": {
          "base_uri": "https://localhost:8080/",
          "height": 391
        }
      },
      "source": [
        "model = tf.keras.models.Sequential([\n",
        "  tf.keras.layers.Conv1D(filters=32, kernel_size=5,\n",
        "                      strides=1, padding=\"causal\",\n",
        "                      activation=\"relu\",\n",
        "                      input_shape=[None, 1]),\n",
        "  tf.keras.layers.LSTM(64, return_sequences=True),\n",
        "  tf.keras.layers.LSTM(64, return_sequences=True),\n",
        "  \n",
        "  tf.keras.layers.Dense(30, activation=\"relu\"),\n",
        "  tf.keras.layers.Dense(10, activation=\"relu\"),\n",
        "  tf.keras.layers.Dense(1),\n",
        "  tf.keras.layers.Lambda(lambda x: x * 400)\n",
        "])\n",
        "\n",
        "model.summary()\n"
      ],
      "execution_count": 64,
      "outputs": [
        {
          "output_type": "stream",
          "text": [
            "Model: \"sequential_1\"\n",
            "_________________________________________________________________\n",
            "Layer (type)                 Output Shape              Param #   \n",
            "=================================================================\n",
            "conv1d_1 (Conv1D)            (None, None, 32)          192       \n",
            "_________________________________________________________________\n",
            "lstm_2 (LSTM)                (None, None, 64)          24832     \n",
            "_________________________________________________________________\n",
            "lstm_3 (LSTM)                (None, None, 64)          33024     \n",
            "_________________________________________________________________\n",
            "dense_3 (Dense)              (None, None, 30)          1950      \n",
            "_________________________________________________________________\n",
            "dense_4 (Dense)              (None, None, 10)          310       \n",
            "_________________________________________________________________\n",
            "dense_5 (Dense)              (None, None, 1)           11        \n",
            "_________________________________________________________________\n",
            "lambda_1 (Lambda)            (None, None, 1)           0         \n",
            "=================================================================\n",
            "Total params: 60,319\n",
            "Trainable params: 60,319\n",
            "Non-trainable params: 0\n",
            "_________________________________________________________________\n"
          ],
          "name": "stdout"
        }
      ]
    },
    {
      "cell_type": "code",
      "metadata": {
        "id": "3Ga36u3oUSwb",
        "colab_type": "code",
        "colab": {}
      },
      "source": [
        "\n",
        "lr_schedule = tf.keras.callbacks.LearningRateScheduler(\n",
        "    lambda epoch: 1e-8 * 10**(epoch / 20))\n",
        "\n",
        "optimizer = tf.keras.optimizers.SGD(lr=1e-8, momentum=0.9)\n"
      ],
      "execution_count": 0,
      "outputs": []
    },
    {
      "cell_type": "markdown",
      "metadata": {
        "id": "1VD55Ii1mFHE",
        "colab_type": "text"
      },
      "source": [
        "### 6. Training the model"
      ]
    },
    {
      "cell_type": "code",
      "metadata": {
        "id": "yLDSkFVLUXv1",
        "colab_type": "code",
        "outputId": "26702c98-4de6-4f48-f91e-f9f3a79ed223",
        "colab": {
          "base_uri": "https://localhost:8080/",
          "height": 1000
        }
      },
      "source": [
        "model.compile(loss=tf.keras.losses.Huber(),\n",
        "              optimizer=optimizer,\n",
        "              metrics=[\"mae\"])\n",
        "history = model.fit(train_set, epochs=100, callbacks=[lr_schedule])\n"
      ],
      "execution_count": 66,
      "outputs": [
        {
          "output_type": "stream",
          "text": [
            "Epoch 1/100\n",
            "62/62 [==============================] - 1s 19ms/step - loss: 11.4914 - mae: 11.9726 - lr: 1.0000e-08\n",
            "Epoch 2/100\n",
            "62/62 [==============================] - 1s 19ms/step - loss: 11.2683 - mae: 11.7493 - lr: 1.1220e-08\n",
            "Epoch 3/100\n",
            "62/62 [==============================] - 1s 19ms/step - loss: 10.9590 - mae: 11.4413 - lr: 1.2589e-08\n",
            "Epoch 4/100\n",
            "62/62 [==============================] - 1s 19ms/step - loss: 10.6737 - mae: 11.1558 - lr: 1.4125e-08\n",
            "Epoch 5/100\n",
            "62/62 [==============================] - 1s 19ms/step - loss: 10.2946 - mae: 10.7757 - lr: 1.5849e-08\n",
            "Epoch 6/100\n",
            "62/62 [==============================] - 1s 19ms/step - loss: 9.9329 - mae: 10.4144 - lr: 1.7783e-08\n",
            "Epoch 7/100\n",
            "62/62 [==============================] - 1s 19ms/step - loss: 9.0993 - mae: 9.5749 - lr: 1.9953e-08\n",
            "Epoch 8/100\n",
            "62/62 [==============================] - 1s 19ms/step - loss: 9.1674 - mae: 9.6467 - lr: 2.2387e-08\n",
            "Epoch 9/100\n",
            "62/62 [==============================] - 1s 19ms/step - loss: 8.6307 - mae: 9.1091 - lr: 2.5119e-08\n",
            "Epoch 10/100\n",
            "62/62 [==============================] - 1s 19ms/step - loss: 8.1030 - mae: 8.5787 - lr: 2.8184e-08\n",
            "Epoch 11/100\n",
            "62/62 [==============================] - 1s 19ms/step - loss: 7.8223 - mae: 8.2984 - lr: 3.1623e-08\n",
            "Epoch 12/100\n",
            "62/62 [==============================] - 1s 19ms/step - loss: 6.9814 - mae: 7.4515 - lr: 3.5481e-08\n",
            "Epoch 13/100\n",
            "62/62 [==============================] - 1s 19ms/step - loss: 6.9428 - mae: 7.4145 - lr: 3.9811e-08\n",
            "Epoch 14/100\n",
            "62/62 [==============================] - 1s 19ms/step - loss: 6.3119 - mae: 6.7797 - lr: 4.4668e-08\n",
            "Epoch 15/100\n",
            "62/62 [==============================] - 1s 19ms/step - loss: 5.5781 - mae: 6.0394 - lr: 5.0119e-08\n",
            "Epoch 16/100\n",
            "62/62 [==============================] - 1s 19ms/step - loss: 5.3239 - mae: 5.7831 - lr: 5.6234e-08\n",
            "Epoch 17/100\n",
            "62/62 [==============================] - 1s 19ms/step - loss: 4.9039 - mae: 5.3592 - lr: 6.3096e-08\n",
            "Epoch 18/100\n",
            "62/62 [==============================] - 1s 19ms/step - loss: 4.4819 - mae: 4.9370 - lr: 7.0795e-08\n",
            "Epoch 19/100\n",
            "62/62 [==============================] - 1s 19ms/step - loss: 4.2471 - mae: 4.6955 - lr: 7.9433e-08\n",
            "Epoch 20/100\n",
            "62/62 [==============================] - 1s 20ms/step - loss: 3.8763 - mae: 4.3197 - lr: 8.9125e-08\n",
            "Epoch 21/100\n",
            "62/62 [==============================] - 1s 19ms/step - loss: 3.6657 - mae: 4.1077 - lr: 1.0000e-07\n",
            "Epoch 22/100\n",
            "62/62 [==============================] - 1s 19ms/step - loss: 3.4463 - mae: 3.8867 - lr: 1.1220e-07\n",
            "Epoch 23/100\n",
            "62/62 [==============================] - 1s 19ms/step - loss: 3.1344 - mae: 3.5691 - lr: 1.2589e-07\n",
            "Epoch 24/100\n",
            "62/62 [==============================] - 1s 19ms/step - loss: 3.0289 - mae: 3.4626 - lr: 1.4125e-07\n",
            "Epoch 25/100\n",
            "62/62 [==============================] - 1s 19ms/step - loss: 2.7744 - mae: 3.1995 - lr: 1.5849e-07\n",
            "Epoch 26/100\n",
            "62/62 [==============================] - 1s 19ms/step - loss: 2.6315 - mae: 3.0548 - lr: 1.7783e-07\n",
            "Epoch 27/100\n",
            "62/62 [==============================] - 1s 19ms/step - loss: 2.4981 - mae: 2.9163 - lr: 1.9953e-07\n",
            "Epoch 28/100\n",
            "62/62 [==============================] - 1s 19ms/step - loss: 2.2795 - mae: 2.6851 - lr: 2.2387e-07\n",
            "Epoch 29/100\n",
            "62/62 [==============================] - 1s 19ms/step - loss: 2.1549 - mae: 2.5561 - lr: 2.5119e-07\n",
            "Epoch 30/100\n",
            "62/62 [==============================] - 1s 19ms/step - loss: 2.0922 - mae: 2.4975 - lr: 2.8184e-07\n",
            "Epoch 31/100\n",
            "62/62 [==============================] - 1s 19ms/step - loss: 1.9452 - mae: 2.3513 - lr: 3.1623e-07\n",
            "Epoch 32/100\n",
            "62/62 [==============================] - 1s 19ms/step - loss: 1.7516 - mae: 2.1552 - lr: 3.5481e-07\n",
            "Epoch 33/100\n",
            "62/62 [==============================] - 1s 19ms/step - loss: 1.7241 - mae: 2.1281 - lr: 3.9811e-07\n",
            "Epoch 34/100\n",
            "62/62 [==============================] - 1s 19ms/step - loss: 1.5952 - mae: 1.9863 - lr: 4.4668e-07\n",
            "Epoch 35/100\n",
            "62/62 [==============================] - 1s 19ms/step - loss: 1.5400 - mae: 1.9307 - lr: 5.0119e-07\n",
            "Epoch 36/100\n",
            "62/62 [==============================] - 1s 19ms/step - loss: 1.4418 - mae: 1.8224 - lr: 5.6234e-07\n",
            "Epoch 37/100\n",
            "62/62 [==============================] - 1s 19ms/step - loss: 1.3846 - mae: 1.7665 - lr: 6.3096e-07\n",
            "Epoch 38/100\n",
            "62/62 [==============================] - 1s 19ms/step - loss: 1.3640 - mae: 1.7542 - lr: 7.0795e-07\n",
            "Epoch 39/100\n",
            "62/62 [==============================] - 1s 19ms/step - loss: 1.3120 - mae: 1.6918 - lr: 7.9433e-07\n",
            "Epoch 40/100\n",
            "62/62 [==============================] - 1s 19ms/step - loss: 1.2471 - mae: 1.6191 - lr: 8.9125e-07\n",
            "Epoch 41/100\n",
            "62/62 [==============================] - 1s 19ms/step - loss: 1.1958 - mae: 1.5710 - lr: 1.0000e-06\n",
            "Epoch 42/100\n",
            "62/62 [==============================] - 1s 19ms/step - loss: 1.1907 - mae: 1.5645 - lr: 1.1220e-06\n",
            "Epoch 43/100\n",
            "62/62 [==============================] - 1s 19ms/step - loss: 1.1836 - mae: 1.5724 - lr: 1.2589e-06\n",
            "Epoch 44/100\n",
            "62/62 [==============================] - 1s 19ms/step - loss: 1.1239 - mae: 1.5067 - lr: 1.4125e-06\n",
            "Epoch 45/100\n",
            "62/62 [==============================] - 1s 19ms/step - loss: 1.0516 - mae: 1.4395 - lr: 1.5849e-06\n",
            "Epoch 46/100\n",
            "62/62 [==============================] - 1s 19ms/step - loss: 1.0516 - mae: 1.4485 - lr: 1.7783e-06\n",
            "Epoch 47/100\n",
            "62/62 [==============================] - 1s 19ms/step - loss: 1.0809 - mae: 1.4900 - lr: 1.9953e-06\n",
            "Epoch 48/100\n",
            "62/62 [==============================] - 1s 19ms/step - loss: 1.1167 - mae: 1.5339 - lr: 2.2387e-06\n",
            "Epoch 49/100\n",
            "62/62 [==============================] - 1s 19ms/step - loss: 1.0322 - mae: 1.4417 - lr: 2.5119e-06\n",
            "Epoch 50/100\n",
            "62/62 [==============================] - 1s 19ms/step - loss: 1.0075 - mae: 1.4170 - lr: 2.8184e-06\n",
            "Epoch 51/100\n",
            "62/62 [==============================] - 1s 19ms/step - loss: 1.5642 - mae: 2.0040 - lr: 3.1623e-06\n",
            "Epoch 52/100\n",
            "62/62 [==============================] - 1s 19ms/step - loss: 1.0861 - mae: 1.5089 - lr: 3.5481e-06\n",
            "Epoch 53/100\n",
            "62/62 [==============================] - 1s 19ms/step - loss: 1.4986 - mae: 1.9362 - lr: 3.9811e-06\n",
            "Epoch 54/100\n",
            "62/62 [==============================] - 1s 18ms/step - loss: 2.9031 - mae: 3.3638 - lr: 4.4668e-06\n",
            "Epoch 55/100\n",
            "62/62 [==============================] - 1s 19ms/step - loss: 0.9803 - mae: 1.3851 - lr: 5.0119e-06\n",
            "Epoch 56/100\n",
            "62/62 [==============================] - 1s 19ms/step - loss: 1.0446 - mae: 1.4650 - lr: 5.6234e-06\n",
            "Epoch 57/100\n",
            "62/62 [==============================] - 1s 19ms/step - loss: 2.1118 - mae: 2.5810 - lr: 6.3096e-06\n",
            "Epoch 58/100\n",
            "62/62 [==============================] - 1s 19ms/step - loss: 1.4346 - mae: 1.8828 - lr: 7.0795e-06\n",
            "Epoch 59/100\n",
            "62/62 [==============================] - 1s 19ms/step - loss: 1.6082 - mae: 2.0571 - lr: 7.9433e-06\n",
            "Epoch 60/100\n",
            "62/62 [==============================] - 1s 19ms/step - loss: 2.3144 - mae: 2.7840 - lr: 8.9125e-06\n",
            "Epoch 61/100\n",
            "62/62 [==============================] - 1s 19ms/step - loss: 2.2846 - mae: 2.7450 - lr: 1.0000e-05\n",
            "Epoch 62/100\n",
            "62/62 [==============================] - 1s 19ms/step - loss: 2.7664 - mae: 3.2333 - lr: 1.1220e-05\n",
            "Epoch 63/100\n",
            "62/62 [==============================] - 1s 19ms/step - loss: 3.2304 - mae: 3.7051 - lr: 1.2589e-05\n",
            "Epoch 64/100\n",
            "62/62 [==============================] - 1s 19ms/step - loss: 3.5355 - mae: 4.0099 - lr: 1.4125e-05\n",
            "Epoch 65/100\n",
            "62/62 [==============================] - 1s 19ms/step - loss: 2.4660 - mae: 2.9297 - lr: 1.5849e-05\n",
            "Epoch 66/100\n",
            "62/62 [==============================] - 1s 19ms/step - loss: 2.7707 - mae: 3.2428 - lr: 1.7783e-05\n",
            "Epoch 67/100\n",
            "62/62 [==============================] - 1s 19ms/step - loss: 2.4274 - mae: 2.8938 - lr: 1.9953e-05\n",
            "Epoch 68/100\n",
            "62/62 [==============================] - 1s 19ms/step - loss: 1.9300 - mae: 2.3895 - lr: 2.2387e-05\n",
            "Epoch 69/100\n",
            "62/62 [==============================] - 1s 19ms/step - loss: 3.0378 - mae: 3.5117 - lr: 2.5119e-05\n",
            "Epoch 70/100\n",
            "62/62 [==============================] - 1s 19ms/step - loss: 3.5417 - mae: 4.0222 - lr: 2.8184e-05\n",
            "Epoch 71/100\n",
            "62/62 [==============================] - 1s 19ms/step - loss: 2.3847 - mae: 2.8499 - lr: 3.1623e-05\n",
            "Epoch 72/100\n",
            "62/62 [==============================] - 1s 19ms/step - loss: 2.4221 - mae: 2.8888 - lr: 3.5481e-05\n",
            "Epoch 73/100\n",
            "62/62 [==============================] - 1s 19ms/step - loss: 3.0496 - mae: 3.5242 - lr: 3.9811e-05\n",
            "Epoch 74/100\n",
            "62/62 [==============================] - 1s 19ms/step - loss: 3.8560 - mae: 4.3279 - lr: 4.4668e-05\n",
            "Epoch 75/100\n",
            "62/62 [==============================] - 1s 19ms/step - loss: 5.3364 - mae: 5.8118 - lr: 5.0119e-05\n",
            "Epoch 76/100\n",
            "62/62 [==============================] - 1s 19ms/step - loss: 7.4024 - mae: 7.8852 - lr: 5.6234e-05\n",
            "Epoch 77/100\n",
            "62/62 [==============================] - 1s 19ms/step - loss: 5.4269 - mae: 5.9098 - lr: 6.3096e-05\n",
            "Epoch 78/100\n",
            "62/62 [==============================] - 1s 19ms/step - loss: 10.3807 - mae: 10.8709 - lr: 7.0795e-05\n",
            "Epoch 79/100\n",
            "62/62 [==============================] - 1s 19ms/step - loss: 8.5966 - mae: 9.0847 - lr: 7.9433e-05\n",
            "Epoch 80/100\n",
            "62/62 [==============================] - 1s 19ms/step - loss: 8.9509 - mae: 9.4375 - lr: 8.9125e-05\n",
            "Epoch 81/100\n",
            "62/62 [==============================] - 1s 19ms/step - loss: 15.8119 - mae: 16.3070 - lr: 1.0000e-04\n",
            "Epoch 82/100\n",
            "62/62 [==============================] - 1s 19ms/step - loss: 11.7692 - mae: 12.2591 - lr: 1.1220e-04\n",
            "Epoch 83/100\n",
            "62/62 [==============================] - 1s 19ms/step - loss: 17.0040 - mae: 17.4961 - lr: 1.2589e-04\n",
            "Epoch 84/100\n",
            "62/62 [==============================] - 1s 19ms/step - loss: 21.1831 - mae: 21.6794 - lr: 1.4125e-04\n",
            "Epoch 85/100\n",
            "62/62 [==============================] - 1s 19ms/step - loss: 29.1295 - mae: 29.6285 - lr: 1.5849e-04\n",
            "Epoch 86/100\n",
            "62/62 [==============================] - 1s 19ms/step - loss: 15.8880 - mae: 16.3803 - lr: 1.7783e-04\n",
            "Epoch 87/100\n",
            "62/62 [==============================] - 1s 19ms/step - loss: 43.2423 - mae: 43.7396 - lr: 1.9953e-04\n",
            "Epoch 88/100\n",
            "62/62 [==============================] - 1s 19ms/step - loss: 17.7985 - mae: 18.2913 - lr: 2.2387e-04\n",
            "Epoch 89/100\n",
            "62/62 [==============================] - 1s 19ms/step - loss: 37.6573 - mae: 38.1572 - lr: 2.5119e-04\n",
            "Epoch 90/100\n",
            "62/62 [==============================] - 1s 19ms/step - loss: 42.5265 - mae: 43.0262 - lr: 2.8184e-04\n",
            "Epoch 91/100\n",
            "62/62 [==============================] - 1s 19ms/step - loss: 47.8315 - mae: 48.3315 - lr: 3.1623e-04\n",
            "Epoch 92/100\n",
            "62/62 [==============================] - 1s 19ms/step - loss: 51.2877 - mae: 51.7855 - lr: 3.5481e-04\n",
            "Epoch 93/100\n",
            "62/62 [==============================] - 1s 19ms/step - loss: 43.5141 - mae: 44.0112 - lr: 3.9811e-04\n",
            "Epoch 94/100\n",
            "62/62 [==============================] - 1s 19ms/step - loss: 84.7124 - mae: 85.2107 - lr: 4.4668e-04\n",
            "Epoch 95/100\n",
            "62/62 [==============================] - 1s 19ms/step - loss: 45.1254 - mae: 45.6219 - lr: 5.0119e-04\n",
            "Epoch 96/100\n",
            "62/62 [==============================] - 1s 19ms/step - loss: 65.4683 - mae: 65.9654 - lr: 5.6234e-04\n",
            "Epoch 97/100\n",
            "62/62 [==============================] - 1s 19ms/step - loss: 134.2214 - mae: 134.7204 - lr: 6.3096e-04\n",
            "Epoch 98/100\n",
            "62/62 [==============================] - 1s 19ms/step - loss: 58.1759 - mae: 58.6759 - lr: 7.0795e-04\n",
            "Epoch 99/100\n",
            "62/62 [==============================] - 1s 19ms/step - loss: 154.8757 - mae: 155.3752 - lr: 7.9433e-04\n",
            "Epoch 100/100\n",
            "62/62 [==============================] - 1s 19ms/step - loss: 102.5270 - mae: 103.0248 - lr: 8.9125e-04\n"
          ],
          "name": "stdout"
        }
      ]
    },
    {
      "cell_type": "code",
      "metadata": {
        "id": "uI4Ke_nVXs4A",
        "colab_type": "code",
        "colab": {
          "base_uri": "https://localhost:8080/",
          "height": 290
        },
        "outputId": "248dcfee-9669-4e0e-80d0-c2e32ae8436f"
      },
      "source": [
        "plt.semilogx(history.history[\"lr\"], history.history[\"loss\"])\n",
        "plt.axis([1e-8, 1e-4, 0, 60])"
      ],
      "execution_count": 67,
      "outputs": [
        {
          "output_type": "execute_result",
          "data": {
            "text/plain": [
              "(1e-08, 0.0001, 0.0, 60.0)"
            ]
          },
          "metadata": {
            "tags": []
          },
          "execution_count": 67
        },
        {
          "output_type": "display_data",
          "data": {
            "image/png": "[encoded data removed]",
            "text/plain": [
              "<Figure size 432x288 with 1 Axes>"
            ]
          },
          "metadata": {
            "tags": [],
            "needs_background": "light"
          }
        }
      ]
    },
    {
      "cell_type": "code",
      "metadata": {
        "id": "YVu3pEbZLs_J",
        "colab_type": "code",
        "outputId": "ab2891a2-e6ce-4d3d-d6d2-53bc8f0bc563",
        "colab": {
          "base_uri": "https://localhost:8080/",
          "height": 1000
        }
      },
      "source": [
        "tf.keras.backend.clear_session()\n",
        "tf.random.set_seed(51)\n",
        "np.random.seed(51)\n",
        "train_set = windowed_dataset(x_train, window_size=32, batch_size=44, shuffle_buffer=shuffle_buffer_size)\n",
        "model = tf.keras.models.Sequential([\n",
        "  tf.keras.layers.Conv1D(filters=60, kernel_size=5,\n",
        "                      strides=1, padding=\"causal\",\n",
        "                      activation=\"relu\",\n",
        "                      input_shape=[None, 1]),\n",
        "  tf.keras.layers.LSTM(60, return_sequences=True),\n",
        "  tf.keras.layers.LSTM(60, return_sequences=True),\n",
        "\n",
        "  tf.keras.layers.Dense(30, activation=\"relu\"),\n",
        "  tf.keras.layers.Dense(10, activation=\"relu\"),\n",
        "  tf.keras.layers.Dense(1),\n",
        "  tf.keras.layers.Lambda(lambda x: x * 400)\n",
        "])\n",
        "\n",
        "\n",
        "optimizer = tf.keras.optimizers.SGD(lr=1e-5, momentum=0.8)\n",
        "model.compile(loss=tf.keras.losses.Huber(),\n",
        "              optimizer=optimizer,\n",
        "              metrics=[\"mae\"])\n",
        "history = model.fit(train_set,epochs=150)"
      ],
      "execution_count": 68,
      "outputs": [
        {
          "output_type": "stream",
          "text": [
            "Epoch 1/150\n",
            "45/45 [==============================] - 1s 21ms/step - loss: 6.4238 - mae: 6.8960\n",
            "Epoch 2/150\n",
            "45/45 [==============================] - 1s 20ms/step - loss: 2.3384 - mae: 2.7950\n",
            "Epoch 3/150\n",
            "45/45 [==============================] - 1s 20ms/step - loss: 2.6775 - mae: 3.1435\n",
            "Epoch 4/150\n",
            "45/45 [==============================] - 1s 20ms/step - loss: 1.9462 - mae: 2.4006\n",
            "Epoch 5/150\n",
            "45/45 [==============================] - 1s 21ms/step - loss: 1.4673 - mae: 1.9168\n",
            "Epoch 6/150\n",
            "45/45 [==============================] - 1s 21ms/step - loss: 1.2794 - mae: 1.7271\n",
            "Epoch 7/150\n",
            "45/45 [==============================] - 1s 21ms/step - loss: 1.2277 - mae: 1.6810\n",
            "Epoch 8/150\n",
            "45/45 [==============================] - 1s 21ms/step - loss: 1.1119 - mae: 1.5567\n",
            "Epoch 9/150\n",
            "45/45 [==============================] - 1s 21ms/step - loss: 1.0956 - mae: 1.5396\n",
            "Epoch 10/150\n",
            "45/45 [==============================] - 1s 20ms/step - loss: 1.0302 - mae: 1.4681\n",
            "Epoch 11/150\n",
            "45/45 [==============================] - 1s 20ms/step - loss: 1.0595 - mae: 1.4891\n",
            "Epoch 12/150\n",
            "45/45 [==============================] - 1s 20ms/step - loss: 1.0484 - mae: 1.4977\n",
            "Epoch 13/150\n",
            "45/45 [==============================] - 1s 21ms/step - loss: 0.8079 - mae: 1.2233\n",
            "Epoch 14/150\n",
            "45/45 [==============================] - 1s 20ms/step - loss: 1.0083 - mae: 1.4546\n",
            "Epoch 15/150\n",
            "45/45 [==============================] - 1s 21ms/step - loss: 0.9030 - mae: 1.3488\n",
            "Epoch 16/150\n",
            "45/45 [==============================] - 1s 20ms/step - loss: 0.8616 - mae: 1.2854\n",
            "Epoch 17/150\n",
            "45/45 [==============================] - 1s 20ms/step - loss: 0.8203 - mae: 1.2483\n",
            "Epoch 18/150\n",
            "45/45 [==============================] - 1s 21ms/step - loss: 0.8319 - mae: 1.2567\n",
            "Epoch 19/150\n",
            "45/45 [==============================] - 1s 20ms/step - loss: 0.8086 - mae: 1.2401\n",
            "Epoch 20/150\n",
            "45/45 [==============================] - 1s 20ms/step - loss: 0.8347 - mae: 1.2750\n",
            "Epoch 21/150\n",
            "45/45 [==============================] - 1s 21ms/step - loss: 0.8052 - mae: 1.2354\n",
            "Epoch 22/150\n",
            "45/45 [==============================] - 1s 20ms/step - loss: 0.7642 - mae: 1.1980\n",
            "Epoch 23/150\n",
            "45/45 [==============================] - 1s 20ms/step - loss: 0.7064 - mae: 1.1232\n",
            "Epoch 24/150\n",
            "45/45 [==============================] - 1s 20ms/step - loss: 0.7464 - mae: 1.1724\n",
            "Epoch 25/150\n",
            "45/45 [==============================] - 1s 20ms/step - loss: 0.7783 - mae: 1.2181\n",
            "Epoch 26/150\n",
            "45/45 [==============================] - 1s 21ms/step - loss: 0.7178 - mae: 1.1480\n",
            "Epoch 27/150\n",
            "45/45 [==============================] - 1s 20ms/step - loss: 0.7592 - mae: 1.1936\n",
            "Epoch 28/150\n",
            "45/45 [==============================] - 1s 21ms/step - loss: 0.7580 - mae: 1.1984\n",
            "Epoch 29/150\n",
            "45/45 [==============================] - 1s 20ms/step - loss: 0.7118 - mae: 1.1420\n",
            "Epoch 30/150\n",
            "45/45 [==============================] - 1s 21ms/step - loss: 0.7155 - mae: 1.1506\n",
            "Epoch 31/150\n",
            "45/45 [==============================] - 1s 21ms/step - loss: 0.6909 - mae: 1.1217\n",
            "Epoch 32/150\n",
            "45/45 [==============================] - 1s 20ms/step - loss: 0.6871 - mae: 1.1155\n",
            "Epoch 33/150\n",
            "45/45 [==============================] - 1s 21ms/step - loss: 0.6400 - mae: 1.0437\n",
            "Epoch 34/150\n",
            "45/45 [==============================] - 1s 21ms/step - loss: 0.7470 - mae: 1.1894\n",
            "Epoch 35/150\n",
            "45/45 [==============================] - 1s 21ms/step - loss: 0.6943 - mae: 1.1330\n",
            "Epoch 36/150\n",
            "45/45 [==============================] - 1s 20ms/step - loss: 0.6519 - mae: 1.0804\n",
            "Epoch 37/150\n",
            "45/45 [==============================] - 1s 21ms/step - loss: 0.6385 - mae: 1.0595\n",
            "Epoch 38/150\n",
            "45/45 [==============================] - 1s 21ms/step - loss: 0.5848 - mae: 0.9928\n",
            "Epoch 39/150\n",
            "45/45 [==============================] - 1s 20ms/step - loss: 0.6257 - mae: 1.0348\n",
            "Epoch 40/150\n",
            "45/45 [==============================] - 1s 20ms/step - loss: 0.5799 - mae: 0.9864\n",
            "Epoch 41/150\n",
            "45/45 [==============================] - 1s 20ms/step - loss: 0.6544 - mae: 1.0878\n",
            "Epoch 42/150\n",
            "45/45 [==============================] - 1s 20ms/step - loss: 0.5732 - mae: 0.9854\n",
            "Epoch 43/150\n",
            "45/45 [==============================] - 1s 21ms/step - loss: 0.5477 - mae: 0.9559\n",
            "Epoch 44/150\n",
            "45/45 [==============================] - 1s 21ms/step - loss: 0.6495 - mae: 1.0911\n",
            "Epoch 45/150\n",
            "45/45 [==============================] - 1s 21ms/step - loss: 0.5573 - mae: 0.9679\n",
            "Epoch 46/150\n",
            "45/45 [==============================] - 1s 21ms/step - loss: 0.6020 - mae: 1.0126\n",
            "Epoch 47/150\n",
            "45/45 [==============================] - 1s 21ms/step - loss: 0.6464 - mae: 1.0612\n",
            "Epoch 48/150\n",
            "45/45 [==============================] - 1s 20ms/step - loss: 0.6039 - mae: 1.0368\n",
            "Epoch 49/150\n",
            "45/45 [==============================] - 1s 20ms/step - loss: 0.5983 - mae: 1.0209\n",
            "Epoch 50/150\n",
            "45/45 [==============================] - 1s 20ms/step - loss: 0.6090 - mae: 1.0392\n",
            "Epoch 51/150\n",
            "45/45 [==============================] - 1s 21ms/step - loss: 0.5620 - mae: 0.9800\n",
            "Epoch 52/150\n",
            "45/45 [==============================] - 1s 21ms/step - loss: 0.5589 - mae: 0.9675\n",
            "Epoch 53/150\n",
            "45/45 [==============================] - 1s 21ms/step - loss: 0.5178 - mae: 0.9202\n",
            "Epoch 54/150\n",
            "45/45 [==============================] - 1s 20ms/step - loss: 0.6092 - mae: 1.0381\n",
            "Epoch 55/150\n",
            "45/45 [==============================] - 1s 20ms/step - loss: 0.5590 - mae: 0.9705\n",
            "Epoch 56/150\n",
            "45/45 [==============================] - 1s 20ms/step - loss: 0.5794 - mae: 1.0096\n",
            "Epoch 57/150\n",
            "45/45 [==============================] - 1s 21ms/step - loss: 0.5593 - mae: 0.9823\n",
            "Epoch 58/150\n",
            "45/45 [==============================] - 1s 21ms/step - loss: 0.5381 - mae: 0.9549\n",
            "Epoch 59/150\n",
            "45/45 [==============================] - 1s 21ms/step - loss: 0.4859 - mae: 0.8833\n",
            "Epoch 60/150\n",
            "45/45 [==============================] - 1s 20ms/step - loss: 0.4813 - mae: 0.8770\n",
            "Epoch 61/150\n",
            "45/45 [==============================] - 1s 20ms/step - loss: 0.4833 - mae: 0.8908\n",
            "Epoch 62/150\n",
            "45/45 [==============================] - 1s 20ms/step - loss: 0.4682 - mae: 0.8591\n",
            "Epoch 63/150\n",
            "45/45 [==============================] - 1s 21ms/step - loss: 0.4165 - mae: 0.7925\n",
            "Epoch 64/150\n",
            "45/45 [==============================] - 1s 21ms/step - loss: 0.5429 - mae: 0.9622\n",
            "Epoch 65/150\n",
            "45/45 [==============================] - 1s 20ms/step - loss: 0.4810 - mae: 0.8829\n",
            "Epoch 66/150\n",
            "45/45 [==============================] - 1s 21ms/step - loss: 0.4742 - mae: 0.8700\n",
            "Epoch 67/150\n",
            "45/45 [==============================] - 1s 21ms/step - loss: 0.5274 - mae: 0.9459\n",
            "Epoch 68/150\n",
            "45/45 [==============================] - 1s 20ms/step - loss: 0.4413 - mae: 0.8183\n",
            "Epoch 69/150\n",
            "45/45 [==============================] - 1s 21ms/step - loss: 0.5074 - mae: 0.9215\n",
            "Epoch 70/150\n",
            "45/45 [==============================] - 1s 21ms/step - loss: 0.4284 - mae: 0.8117\n",
            "Epoch 71/150\n",
            "45/45 [==============================] - 1s 21ms/step - loss: 0.5265 - mae: 0.9523\n",
            "Epoch 72/150\n",
            "45/45 [==============================] - 1s 21ms/step - loss: 0.4868 - mae: 0.8989\n",
            "Epoch 73/150\n",
            "45/45 [==============================] - 1s 20ms/step - loss: 0.4095 - mae: 0.7921\n",
            "Epoch 74/150\n",
            "45/45 [==============================] - 1s 21ms/step - loss: 0.4258 - mae: 0.8066\n",
            "Epoch 75/150\n",
            "45/45 [==============================] - 1s 20ms/step - loss: 0.4901 - mae: 0.8956\n",
            "Epoch 76/150\n",
            "45/45 [==============================] - 1s 20ms/step - loss: 0.4087 - mae: 0.7876\n",
            "Epoch 77/150\n",
            "45/45 [==============================] - 1s 21ms/step - loss: 0.4486 - mae: 0.8491\n",
            "Epoch 78/150\n",
            "45/45 [==============================] - 1s 21ms/step - loss: 0.4852 - mae: 0.8965\n",
            "Epoch 79/150\n",
            "45/45 [==============================] - 1s 20ms/step - loss: 0.4811 - mae: 0.8904\n",
            "Epoch 80/150\n",
            "45/45 [==============================] - 1s 20ms/step - loss: 0.4069 - mae: 0.7856\n",
            "Epoch 81/150\n",
            "45/45 [==============================] - 1s 20ms/step - loss: 0.4230 - mae: 0.8110\n",
            "Epoch 82/150\n",
            "45/45 [==============================] - 1s 20ms/step - loss: 0.4290 - mae: 0.8236\n",
            "Epoch 83/150\n",
            "45/45 [==============================] - 1s 21ms/step - loss: 0.4748 - mae: 0.8831\n",
            "Epoch 84/150\n",
            "45/45 [==============================] - 1s 20ms/step - loss: 0.4494 - mae: 0.8481\n",
            "Epoch 85/150\n",
            "45/45 [==============================] - 1s 20ms/step - loss: 0.4400 - mae: 0.8348\n",
            "Epoch 86/150\n",
            "45/45 [==============================] - 1s 21ms/step - loss: 0.4033 - mae: 0.7842\n",
            "Epoch 87/150\n",
            "45/45 [==============================] - 1s 21ms/step - loss: 0.4487 - mae: 0.8456\n",
            "Epoch 88/150\n",
            "45/45 [==============================] - 1s 21ms/step - loss: 0.4198 - mae: 0.8061\n",
            "Epoch 89/150\n",
            "45/45 [==============================] - 1s 20ms/step - loss: 0.3921 - mae: 0.7675\n",
            "Epoch 90/150\n",
            "45/45 [==============================] - 1s 20ms/step - loss: 0.4796 - mae: 0.8897\n",
            "Epoch 91/150\n",
            "45/45 [==============================] - 1s 20ms/step - loss: 0.4299 - mae: 0.8337\n",
            "Epoch 92/150\n",
            "45/45 [==============================] - 1s 21ms/step - loss: 0.4548 - mae: 0.8641\n",
            "Epoch 93/150\n",
            "45/45 [==============================] - 1s 20ms/step - loss: 0.4136 - mae: 0.8032\n",
            "Epoch 94/150\n",
            "45/45 [==============================] - 1s 20ms/step - loss: 0.4399 - mae: 0.8459\n",
            "Epoch 95/150\n",
            "45/45 [==============================] - 1s 21ms/step - loss: 0.4172 - mae: 0.8077\n",
            "Epoch 96/150\n",
            "45/45 [==============================] - 1s 21ms/step - loss: 0.4298 - mae: 0.8327\n",
            "Epoch 97/150\n",
            "45/45 [==============================] - 1s 21ms/step - loss: 0.4168 - mae: 0.8192\n",
            "Epoch 98/150\n",
            "45/45 [==============================] - 1s 20ms/step - loss: 0.4231 - mae: 0.8232\n",
            "Epoch 99/150\n",
            "45/45 [==============================] - 1s 20ms/step - loss: 0.3801 - mae: 0.7467\n",
            "Epoch 100/150\n",
            "45/45 [==============================] - 1s 20ms/step - loss: 0.3859 - mae: 0.7703\n",
            "Epoch 101/150\n",
            "45/45 [==============================] - 1s 20ms/step - loss: 0.4195 - mae: 0.8191\n",
            "Epoch 102/150\n",
            "45/45 [==============================] - 1s 20ms/step - loss: 0.4171 - mae: 0.8138\n",
            "Epoch 103/150\n",
            "45/45 [==============================] - 1s 21ms/step - loss: 0.3620 - mae: 0.7386\n",
            "Epoch 104/150\n",
            "45/45 [==============================] - 1s 20ms/step - loss: 0.4201 - mae: 0.8199\n",
            "Epoch 105/150\n",
            "45/45 [==============================] - 1s 21ms/step - loss: 0.4400 - mae: 0.8427\n",
            "Epoch 106/150\n",
            "45/45 [==============================] - 1s 21ms/step - loss: 0.3919 - mae: 0.7691\n",
            "Epoch 107/150\n",
            "45/45 [==============================] - 1s 20ms/step - loss: 0.3962 - mae: 0.7835\n",
            "Epoch 108/150\n",
            "45/45 [==============================] - 1s 21ms/step - loss: 0.3361 - mae: 0.6969\n",
            "Epoch 109/150\n",
            "45/45 [==============================] - 1s 21ms/step - loss: 0.4166 - mae: 0.8135\n",
            "Epoch 110/150\n",
            "45/45 [==============================] - 1s 20ms/step - loss: 0.3643 - mae: 0.7427\n",
            "Epoch 111/150\n",
            "45/45 [==============================] - 1s 20ms/step - loss: 0.3966 - mae: 0.7773\n",
            "Epoch 112/150\n",
            "45/45 [==============================] - 1s 21ms/step - loss: 0.4369 - mae: 0.8443\n",
            "Epoch 113/150\n",
            "45/45 [==============================] - 1s 21ms/step - loss: 0.4036 - mae: 0.7910\n",
            "Epoch 114/150\n",
            "45/45 [==============================] - 1s 20ms/step - loss: 0.3641 - mae: 0.7420\n",
            "Epoch 115/150\n",
            "45/45 [==============================] - 1s 20ms/step - loss: 0.3897 - mae: 0.7791\n",
            "Epoch 116/150\n",
            "45/45 [==============================] - 1s 20ms/step - loss: 0.3773 - mae: 0.7522\n",
            "Epoch 117/150\n",
            "45/45 [==============================] - 1s 20ms/step - loss: 0.4014 - mae: 0.8029\n",
            "Epoch 118/150\n",
            "45/45 [==============================] - 1s 21ms/step - loss: 0.4081 - mae: 0.8011\n",
            "Epoch 119/150\n",
            "45/45 [==============================] - 1s 20ms/step - loss: 0.3881 - mae: 0.7779\n",
            "Epoch 120/150\n",
            "45/45 [==============================] - 1s 20ms/step - loss: 0.3672 - mae: 0.7478\n",
            "Epoch 121/150\n",
            "45/45 [==============================] - 1s 21ms/step - loss: 0.3820 - mae: 0.7699\n",
            "Epoch 122/150\n",
            "45/45 [==============================] - 1s 20ms/step - loss: 0.4146 - mae: 0.8051\n",
            "Epoch 123/150\n",
            "45/45 [==============================] - 1s 21ms/step - loss: 0.3796 - mae: 0.7514\n",
            "Epoch 124/150\n",
            "45/45 [==============================] - 1s 21ms/step - loss: 0.3668 - mae: 0.7500\n",
            "Epoch 125/150\n",
            "45/45 [==============================] - 1s 21ms/step - loss: 0.4235 - mae: 0.8259\n",
            "Epoch 126/150\n",
            "45/45 [==============================] - 1s 21ms/step - loss: 0.2833 - mae: 0.6253\n",
            "Epoch 127/150\n",
            "45/45 [==============================] - 1s 20ms/step - loss: 0.3499 - mae: 0.7193\n",
            "Epoch 128/150\n",
            "45/45 [==============================] - 1s 21ms/step - loss: 0.3480 - mae: 0.7234\n",
            "Epoch 129/150\n",
            "45/45 [==============================] - 1s 21ms/step - loss: 0.3300 - mae: 0.6889\n",
            "Epoch 130/150\n",
            "45/45 [==============================] - 1s 21ms/step - loss: 0.3628 - mae: 0.7422\n",
            "Epoch 131/150\n",
            "45/45 [==============================] - 1s 21ms/step - loss: 0.3494 - mae: 0.7185\n",
            "Epoch 132/150\n",
            "45/45 [==============================] - 1s 20ms/step - loss: 0.2940 - mae: 0.6377\n",
            "Epoch 133/150\n",
            "45/45 [==============================] - 1s 20ms/step - loss: 0.3714 - mae: 0.7596\n",
            "Epoch 134/150\n",
            "45/45 [==============================] - 1s 20ms/step - loss: 0.3477 - mae: 0.7190\n",
            "Epoch 135/150\n",
            "45/45 [==============================] - 1s 21ms/step - loss: 0.3959 - mae: 0.7918\n",
            "Epoch 136/150\n",
            "45/45 [==============================] - 1s 21ms/step - loss: 0.4175 - mae: 0.8231\n",
            "Epoch 137/150\n",
            "45/45 [==============================] - 1s 21ms/step - loss: 0.3708 - mae: 0.7600\n",
            "Epoch 138/150\n",
            "45/45 [==============================] - 1s 21ms/step - loss: 0.3680 - mae: 0.7561\n",
            "Epoch 139/150\n",
            "45/45 [==============================] - 1s 20ms/step - loss: 0.3230 - mae: 0.6852\n",
            "Epoch 140/150\n",
            "45/45 [==============================] - 1s 20ms/step - loss: 0.3108 - mae: 0.6640\n",
            "Epoch 141/150\n",
            "45/45 [==============================] - 1s 20ms/step - loss: 0.3635 - mae: 0.7519\n",
            "Epoch 142/150\n",
            "45/45 [==============================] - 1s 20ms/step - loss: 0.3538 - mae: 0.7306\n",
            "Epoch 143/150\n",
            "45/45 [==============================] - 1s 20ms/step - loss: 0.3595 - mae: 0.7435\n",
            "Epoch 144/150\n",
            "45/45 [==============================] - 1s 20ms/step - loss: 0.3522 - mae: 0.7296\n",
            "Epoch 145/150\n",
            "45/45 [==============================] - 1s 20ms/step - loss: 0.3308 - mae: 0.7037\n",
            "Epoch 146/150\n",
            "45/45 [==============================] - 1s 20ms/step - loss: 0.3350 - mae: 0.7053\n",
            "Epoch 147/150\n",
            "45/45 [==============================] - 1s 20ms/step - loss: 0.3424 - mae: 0.7182\n",
            "Epoch 148/150\n",
            "45/45 [==============================] - 1s 20ms/step - loss: 0.3237 - mae: 0.6839\n",
            "Epoch 149/150\n",
            "45/45 [==============================] - 1s 20ms/step - loss: 0.2970 - mae: 0.6419\n",
            "Epoch 150/150\n",
            "45/45 [==============================] - 1s 20ms/step - loss: 0.3262 - mae: 0.6915\n"
          ],
          "name": "stdout"
        }
      ]
    },
    {
      "cell_type": "code",
      "metadata": {
        "id": "8d7V953TLt4A",
        "colab_type": "code",
        "colab": {}
      },
      "source": [
        "rnn_forecast = model_forecast(model, series1[..., np.newaxis], window_size)\n",
        "rnn_forecast = rnn_forecast[split_time - window_size:-1, -1, 0]"
      ],
      "execution_count": 0,
      "outputs": []
    },
    {
      "cell_type": "markdown",
      "metadata": {
        "id": "2pysNgJOlID6",
        "colab_type": "text"
      },
      "source": [
        " Got the below results with following values of the parameter:\n",
        "\n",
        "1.  window_size = 60\n",
        "2. batch_size = 100\n",
        "3. learning_rate = 1e-5\n",
        "4. shuffle_buffer_size = 500\n",
        "5. momentum = 0.9"
      ]
    },
    {
      "cell_type": "code",
      "metadata": {
        "id": "TFxiADC3Lku8",
        "colab_type": "code",
        "outputId": "2d73cebb-26c9-4136-b5fc-218a6ee3e718",
        "colab": {
          "base_uri": "https://localhost:8080/",
          "height": 300
        }
      },
      "source": [
        "plt.figure(figsize=(16, 6))\n",
        "plt.plot(time_valid,x_valid)\n",
        "plt.plot(time_valid,rnn_forecast)\n",
        "plt.ylabel('Price')\n",
        "plt.xlabel('Years')\n",
        "plt.title('PER_DAY_VALUE Plot')\n",
        "\n",
        "plt.grid(True,linestyle='-')\n",
        "\n",
        "plt.show()\n"
      ],
      "execution_count": 0,
      "outputs": [
        {
          "output_type": "display_data",
          "data": {
            "image/png": "[encoded data removed]",
            "text/plain": [
              "<Figure size 1152x432 with 1 Axes>"
            ]
          },
          "metadata": {
            "tags": [],
            "needs_background": "light"
          }
        }
      ]
    },
    {
      "cell_type": "markdown",
      "metadata": {
        "id": "ISlb9cFTpITs",
        "colab_type": "text"
      },
      "source": [
        "MAE recieved = 1.86\n",
        "\n",
        "Clearly we can see the  difference between the in the original and the predictie graph lines, let's try _tweaking_ the parameters a little."
      ]
    },
    {
      "cell_type": "markdown",
      "metadata": {
        "id": "iGH-yveDprzu",
        "colab_type": "text"
      },
      "source": [
        "______________________________________________________________________________"
      ]
    },
    {
      "cell_type": "markdown",
      "metadata": {
        "id": "keldHrvIoHzi",
        "colab_type": "text"
      },
      "source": [
        " Got the below results with following values of the parameter:\n",
        "\n",
        "1.  window_size = 30\n",
        "2. batch_size = 32\n",
        "3. learning_rate = 1e-5\n",
        "4. shuffle_buffer_size = 500\n",
        "5. momentum = 0.8"
      ]
    },
    {
      "cell_type": "code",
      "metadata": {
        "id": "VgHFq5N8WD2z",
        "colab_type": "code",
        "outputId": "a0f2a8c0-ed07-4bec-a9df-32bebb02a9a9",
        "colab": {
          "base_uri": "https://localhost:8080/",
          "height": 300
        }
      },
      "source": [
        "plt.figure(figsize=(16, 6))\n",
        "plt.plot(-90+(time_valid/(30-8)),x_valid)\n",
        "plt.plot(-90+(time_valid/(30-8)),rnn_forecast)\n",
        "plt.ylabel('Price')\n",
        "plt.xlabel('Years')\n",
        "plt.title('PER_DAY_VALUE Plot')\n",
        "\n",
        "plt.grid(True,linestyle='-')\n",
        "\n",
        "plt.show()\n",
        "\n",
        "\n"
      ],
      "execution_count": 0,
      "outputs": [
        {
          "output_type": "display_data",
          "data": {
            "image/png": "[encoded data removed]",
            "text/plain": [
              "<Figure size 1152x432 with 1 Axes>"
            ]
          },
          "metadata": {
            "tags": [],
            "needs_background": "light"
          }
        }
      ]
    },
    {
      "cell_type": "markdown",
      "metadata": {
        "id": "7DkVCqt6X_1m",
        "colab_type": "text"
      },
      "source": [
        "MAE recieved = 0.6\n",
        "\n",
        "We can see the predictie graph lines have now come closer as a result of reduced momentum and reduced buffer size and window size, which has yielded better results."
      ]
    },
    {
      "cell_type": "code",
      "metadata": {
        "id": "se0qHeA6Ly08",
        "colab_type": "code",
        "outputId": "c37500d3-6320-4b9b-9428-464a57aade27",
        "colab": {
          "base_uri": "https://localhost:8080/",
          "height": 34
        }
      },
      "source": [
        "tf.keras.metrics.mean_absolute_error(x_valid, rnn_forecast).numpy()"
      ],
      "execution_count": 0,
      "outputs": [
        {
          "output_type": "execute_result",
          "data": {
            "text/plain": [
              "0.60091454"
            ]
          },
          "metadata": {
            "tags": []
          },
          "execution_count": 154
        }
      ]
    },
    {
      "cell_type": "code",
      "metadata": {
        "id": "ux0EX2ikL1kM",
        "colab_type": "code",
        "outputId": "03a496e4-d164-4387-e30c-7ab92839d951",
        "colab": {
          "base_uri": "https://localhost:8080/",
          "height": 1000
        }
      },
      "source": [
        "print(len(rnn_forecast))\n",
        "print(rnn_forecast)\n"
      ],
      "execution_count": 0,
      "outputs": [
        {
          "output_type": "stream",
          "text": [
            "632\n",
            "[65.10747  65.0674   65.05583  65.0512   65.004036 64.95153  64.89658\n",
            " 64.87042  64.8396   64.81442  64.783485 64.76409  64.76549  64.76185\n",
            " 64.734726 64.650215 64.53876  64.43517  64.36916  64.31039  64.27136\n",
            " 64.28221  64.32374  64.35134  64.346855 64.324486 64.350296 64.41668\n",
            " 64.46927  64.461754 64.46003  64.456024 64.4267   64.362625 64.31813\n",
            " 64.2931   64.3046   64.30223  64.332184 64.41332  64.51581  64.58352\n",
            " 64.63104  64.671455 64.711    64.73421  64.74682  64.725815 64.67321\n",
            " 64.646515 64.67862  64.79624  64.94054  65.06835  65.1124   65.13552\n",
            " 65.14586  65.22537  65.33017  65.41296  65.42897  65.399734 65.35507\n",
            " 65.36051  65.40733  65.44553  65.422264 65.3922   65.38571  65.4089\n",
            " 65.46232  65.51918  65.562004 65.56908  65.54483  65.4989   65.45702\n",
            " 65.46686  65.526794 65.56038  65.58418  65.574135 65.56466  65.53056\n",
            " 65.507545 65.49382  65.50136  65.53461  65.597725 65.65063  65.68987\n",
            " 65.760185 65.85929  65.94477  66.04353  66.19127  66.33299  66.46987\n",
            " 66.58923  66.67466  66.66291  66.6655   66.71019  66.756424 66.7807\n",
            " 66.85889  66.96919  67.07046  67.14185  67.201126 67.261566 67.3976\n",
            " 67.529366 67.603096 67.636    67.713295 67.80394  67.883514 67.96727\n",
            " 67.9916   67.88724  67.788994 67.76487  67.755066 67.66608  67.5621\n",
            " 67.50778  67.46297  67.4596   67.521835 67.62355  67.65344  67.67551\n",
            " 67.72282  67.812744 67.90457  68.01185  68.06639  68.07616  68.0387\n",
            " 68.04793  68.10023  68.21581  68.3529   68.429245 68.44737  68.457375\n",
            " 68.48662  68.51381  68.56435  68.60237  68.58805  68.59546  68.58178\n",
            " 68.55551  68.53354  68.516335 68.53906  68.60211  68.67761  68.71745\n",
            " 68.73614  68.75386  68.747284 68.70439  68.68676  68.654854 68.61121\n",
            " 68.58881  68.60964  68.66269  68.697845 68.71503  68.70101  68.74078\n",
            " 68.890175 69.12499  69.317696 69.395935 69.459335 69.49922  69.4933\n",
            " 69.47973  69.51991  69.57128  69.61613  69.65476  69.7387   69.84201\n",
            " 69.99219  70.13723  70.28636  70.44748  70.60382  70.71518  70.83354\n",
            " 70.994484 71.13542  71.14491  71.10428  71.13584  71.267296 71.38973\n",
            " 71.383736 71.36426  71.39894  71.509636 71.60207  71.63287  71.63317\n",
            " 71.67894  71.76167  71.88823  72.02143  72.182526 72.32263  72.48037\n",
            " 72.61598  72.68774  72.66339  72.6185   72.57602  72.56565  72.5443\n",
            " 72.55342  72.54946  72.5482   72.54259  72.492325 72.48579  72.51449\n",
            " 72.554886 72.619354 72.67577  72.57626  72.40422  72.32749  72.30577\n",
            " 72.19705  72.10982  72.10846  72.14901  72.12888  72.003815 71.87385\n",
            " 71.759056 71.639145 71.50115  71.33068  71.15442  71.007195 70.95953\n",
            " 70.91335  70.75842  70.528046 70.39055  70.42791  70.51291  70.56131\n",
            " 70.60093  70.7934   71.073784 71.2449   71.16797  71.12689  71.118835\n",
            " 71.01578  70.77062  70.499504 70.35066  70.2695   70.22421  70.1698\n",
            " 70.16419  70.14251  70.05384  69.90004  69.82044  69.86996  69.89988\n",
            " 69.84818  69.83385  69.92012  70.03158  70.11115  70.149734 70.25\n",
            " 70.37122  70.43203  70.51505  70.55867  70.591225 70.60516  70.61112\n",
            " 70.56812  70.52032  70.55689  70.619865 70.6391   70.636284 70.707756\n",
            " 70.812164 70.86924  70.84719  70.800804 70.74758  70.67982  70.60077\n",
            " 70.559135 70.64148  70.737305 70.80905  70.79343  70.75394  70.734726\n",
            " 70.715645 70.67028  70.675644 70.69407  70.681366 70.65394  70.6058\n",
            " 70.471344 70.315765 70.21446  70.15197  70.05281  69.93448  69.83845\n",
            " 69.71696  69.535    69.39802  69.32638  69.28915  69.2693   69.255745\n",
            " 69.255356 69.23473  69.25792  69.277954 69.28295  69.24339  69.14172\n",
            " 69.04446  69.049    69.16704  69.25404  69.24982  69.190834 69.1512\n",
            " 69.1612   69.21751  69.27238  69.283745 69.272026 69.29367  69.357544\n",
            " 69.44087  69.52192  69.57219  69.585785 69.534996 69.49104  69.448494\n",
            " 69.36416  69.30724  69.323555 69.40466  69.51183  69.61257  69.72004\n",
            " 69.79443  69.8644   69.85023  69.85505  69.80374  69.712    69.61649\n",
            " 69.59873  69.57074  69.5283   69.50422  69.54373  69.5972   69.617645\n",
            " 69.54145  69.44089  69.39471  69.3713   69.354576 69.36052  69.39068\n",
            " 69.39122  69.377556 69.43415  69.52042  69.558624 69.55403  69.510475\n",
            " 69.50946  69.465004 69.41208  69.35251  69.31429  69.22976  69.15767\n",
            " 69.102745 69.06342  68.99296  68.905426 68.83639  68.81797  68.796745\n",
            " 68.749275 68.711624 68.718925 68.74     68.76575  68.81829  68.85941\n",
            " 68.87431  68.901184 68.932304 68.95889  68.9546   68.91689  68.88223\n",
            " 68.87061  68.898026 68.98412  69.24097  69.579865 69.856766 69.94388\n",
            " 69.954056 70.023254 70.1902   70.30866  70.41365  70.482155 70.51712\n",
            " 70.53295  70.596466 70.68153  70.74759  70.82665  70.863594 70.90161\n",
            " 70.9116   70.92117  70.940735 71.026695 71.1367   71.17199  71.144485\n",
            " 71.12265  71.12902  71.14363  71.07886  70.96259  70.914474 70.9821\n",
            " 70.99303  70.97153  70.93612  70.87742  70.79027  70.77247  70.75517\n",
            " 70.711075 70.63022  70.60556  70.69155  70.73671  70.73125  70.67801\n",
            " 70.69548  70.73572  70.73737  70.714355 70.7116   70.76592  70.84077\n",
            " 70.84251  70.79728  70.74213  70.68059  70.60327  70.57693  70.593765\n",
            " 70.58362  70.55281  70.569336 70.5899   70.579124 70.55444  70.52517\n",
            " 70.53933  70.56683  70.6395   70.743286 70.85964  70.98577  71.08888\n",
            " 71.12223  71.11386  71.12037  71.13847  71.127144 71.13395  71.14408\n",
            " 71.11672  71.044716 70.9942   71.01148  71.06662  71.10119  71.101715\n",
            " 71.05156  70.97965  70.91486  70.83608  70.7411   70.65326  70.61022\n",
            " 70.615524 70.66631  70.69836  70.733345 70.753685 70.77582  70.80557\n",
            " 70.83212  70.84054  70.8718   70.88977  70.894966 70.87766  70.87116\n",
            " 70.91085  71.00311  71.085304 71.1006   71.03695  70.913086 70.78896\n",
            " 70.69063  70.633064 70.63084  70.647766 70.68431  70.7084   70.71767\n",
            " 70.75799  70.80415  70.85732  70.86216  70.85889  70.86798  70.926476\n",
            " 70.952835 70.90989  70.849815 70.82927  70.857285 70.89312  70.89577\n",
            " 70.87625  70.88447  70.90963  70.93131  70.9469   70.967804 71.01033\n",
            " 71.05556  71.124855 71.16695  71.16352  71.13018  71.19093  71.38416\n",
            " 71.597244 71.78679  71.94402  72.10893  72.26051  72.41266  72.46941\n",
            " 72.52356  72.578964 72.61931  72.611465 72.69594  72.84347  73.02938\n",
            " 73.290726 73.58487  73.806854 73.80799  73.690926 73.62787  73.68243\n",
            " 73.79691  73.992325 74.16371  74.20027  74.15668  74.12613  74.19872\n",
            " 74.28138  74.33044  74.360275 74.42587  74.54094  74.65654  74.69808\n",
            " 74.725006 74.79221  74.725876 74.63571  74.611374 74.64004  74.57844\n",
            " 74.4382   74.353096 74.358215 74.412    74.40964  74.47125  74.45711\n",
            " 74.40984  74.37649 ]\n"
          ],
          "name": "stdout"
        }
      ]
    },
    {
      "cell_type": "code",
      "metadata": {
        "id": "pNUZYmrAa0AC",
        "colab_type": "code",
        "colab": {
          "base_uri": "https://localhost:8080/",
          "height": 607
        },
        "outputId": "ae87d647-8dd5-42f2-8e02-075fed334691"
      },
      "source": [
        "import matplotlib.image  as mpimg\n",
        "import matplotlib.pyplot as plt\n",
        "\n",
        "#-----------------------------------------------------------\n",
        "# Retrieve a list of list results on training and test data\n",
        "# sets for each training epoch\n",
        "#-----------------------------------------------------------\n",
        "mae=history.history['mae']\n",
        "loss=history.history['loss']\n",
        "\n",
        "epochs=range(len(loss)) # Get number of epochs\n",
        "\n",
        "#------------------------------------------------\n",
        "# Plot MAE and Loss\n",
        "#------------------------------------------------\n",
        "plt.plot(epochs, mae, 'r')\n",
        "plt.plot(epochs, loss, 'b')\n",
        "plt.title('MAE and Loss')\n",
        "plt.xlabel(\"Epochs\")\n",
        "plt.ylabel(\"Accuracy\")\n",
        "plt.legend([\"MAE\", \"Loss\"])\n",
        "\n",
        "plt.figure()\n",
        "\n",
        "epochs_zoom = epochs[20:]\n",
        "mae_zoom = mae[20:]\n",
        "loss_zoom = loss[20:]\n",
        "\n",
        "#------------------------------------------------\n",
        "# Plot Zoomed MAE and Loss\n",
        "#------------------------------------------------\n",
        "plt.plot(epochs_zoom, mae_zoom, 'r')\n",
        "plt.plot(epochs_zoom, loss_zoom, 'b')\n",
        "plt.title('MAE and Loss')\n",
        "plt.xlabel(\"Epochs\")\n",
        "plt.ylabel(\"Accuracy\")\n",
        "plt.legend([\"MAE\", \"Loss\"])\n",
        "\n",
        "plt.figure()"
      ],
      "execution_count": 73,
      "outputs": [
        {
          "output_type": "execute_result",
          "data": {
            "text/plain": [
              "<Figure size 432x288 with 0 Axes>"
            ]
          },
          "metadata": {
            "tags": []
          },
          "execution_count": 73
        },
        {
          "output_type": "display_data",
          "data": {
            "image/png": "[encoded data removed]",
            "text/plain": [
              "<Figure size 432x288 with 1 Axes>"
            ]
          },
          "metadata": {
            "tags": [],
            "needs_background": "light"
          }
        },
        {
          "output_type": "display_data",
          "data": {
            "image/png": "[encoded data removed]",
            "text/plain": [
              "<Figure size 432x288 with 1 Axes>"
            ]
          },
          "metadata": {
            "tags": [],
            "needs_background": "light"
          }
        },
        {
          "output_type": "display_data",
          "data": {
            "text/plain": [
              "<Figure size 432x288 with 0 Axes>"
            ]
          },
          "metadata": {
            "tags": []
          }
        }
      ]
    },
    {
      "cell_type": "markdown",
      "metadata": {
        "id": "dBSAKhawmKs0",
        "colab_type": "text"
      },
      "source": [
        "### Saving the model"
      ]
    },
    {
      "cell_type": "code",
      "metadata": {
        "id": "nshZpr2BmM9Z",
        "colab_type": "code",
        "outputId": "6b92bec1-f46a-4c3e-ee00-944a8a4627b0",
        "colab": {
          "base_uri": "https://localhost:8080/",
          "height": 34
        }
      },
      "source": [
        "# serialize model to JSON\n",
        "model_json = model.to_json()\n",
        "with open(\"model.json\", \"w\") as json_file:\n",
        "    json_file.write(model_json)\n",
        "# serialize weights to HDF5\n",
        "model.save_weights(\"model.h5\")\n",
        "print(\"Saved model to disk\")"
      ],
      "execution_count": 0,
      "outputs": [
        {
          "output_type": "stream",
          "text": [
            "Saved model to disk\n"
          ],
          "name": "stdout"
        }
      ]
    },
    {
      "cell_type": "markdown",
      "metadata": {
        "id": "wXAtZmKsmr5W",
        "colab_type": "text"
      },
      "source": [
        "Loading the model "
      ]
    },
    {
      "cell_type": "code",
      "metadata": {
        "id": "sctmGIb7mlWh",
        "colab_type": "code",
        "outputId": "57fa3fff-538e-4e9a-8be7-740617ca9b45",
        "colab": {
          "base_uri": "https://localhost:8080/",
          "height": 498
        }
      },
      "source": [
        "!pip install h5py\n",
        "\n",
        "# load json and create model\n",
        "json_file = open('model.json', 'r')\n",
        "loaded_model_json = json_file.read()\n",
        "json_file.close()\n",
        "loaded_model = tf.keras.models.model_from_json(loaded_model_json)\n",
        "# load weights into new model\n",
        "loaded_model.load_weights(\"model.h5\")\n",
        "print(\"Loaded model from disk\")\n",
        "loaded_model.summary()"
      ],
      "execution_count": 0,
      "outputs": [
        {
          "output_type": "stream",
          "text": [
            "Requirement already satisfied: h5py in /usr/local/lib/python3.6/dist-packages (2.10.0)\n",
            "Requirement already satisfied: numpy>=1.7 in /usr/local/lib/python3.6/dist-packages (from h5py) (1.18.4)\n",
            "Requirement already satisfied: six in /usr/local/lib/python3.6/dist-packages (from h5py) (1.12.0)\n",
            "Loaded model from disk\n",
            "Model: \"sequential\"\n",
            "_________________________________________________________________\n",
            "Layer (type)                 Output Shape              Param #   \n",
            "=================================================================\n",
            "conv1d (Conv1D)              (None, None, 60)          360       \n",
            "_________________________________________________________________\n",
            "lstm (LSTM)                  (None, None, 60)          29040     \n",
            "_________________________________________________________________\n",
            "lstm_1 (LSTM)                (None, None, 60)          29040     \n",
            "_________________________________________________________________\n",
            "dense (Dense)                (None, None, 30)          1830      \n",
            "_________________________________________________________________\n",
            "dense_1 (Dense)              (None, None, 10)          310       \n",
            "_________________________________________________________________\n",
            "dense_2 (Dense)              (None, None, 1)           11        \n",
            "_________________________________________________________________\n",
            "lambda (Lambda)              (None, None, 1)           0         \n",
            "=================================================================\n",
            "Total params: 60,591\n",
            "Trainable params: 60,591\n",
            "Non-trainable params: 0\n",
            "_________________________________________________________________\n"
          ],
          "name": "stdout"
        }
      ]
    },
    {
      "cell_type": "code",
      "metadata": {
        "id": "1heOXW6FmyJY",
        "colab_type": "code",
        "colab": {}
      },
      "source": [
        ""
      ],
      "execution_count": 0,
      "outputs": []
    }
  ]
}